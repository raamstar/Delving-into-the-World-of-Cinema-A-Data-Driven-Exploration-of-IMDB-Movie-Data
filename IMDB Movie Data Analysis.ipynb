{
  "cells": [
    {
      "cell_type": "markdown",
      "metadata": {
        "id": "YjrunZs4UhhL"
      },
      "source": [
        "# A strategical Analysis of Directors, Genres, Budgets, and IMDb Scores for Strategic Decision-Making in Film Production"
      ]
    },
    {
      "cell_type": "markdown",
      "metadata": {
        "id": "CmBt6F8kUhhQ"
      },
      "source": [
        "This strategical report aims to provide an analysis of the factors affecting  the success of films, By considering directors, genres, budgets, and IMDb scores. Through a combination of statistical analyses, visualizations, and interpretative summaries, this report aims to provide a strong idea for informed decision-making in film production"
      ]
    },
    {
      "cell_type": "code",
      "execution_count": 1,
      "metadata": {
        "id": "WlPvndrvUhhS",
        "colab": {
          "base_uri": "https://localhost:8080/",
          "height": 308
        },
        "outputId": "f759a7e1-6c51-432a-cb9b-fb83bc6d325c"
      },
      "outputs": [
        {
          "output_type": "execute_result",
          "data": {
            "text/plain": [
              "      color     director_name  num_critic_for_reviews  duration  \\\n",
              "5038  Color       Scott Smith                     1.0      87.0   \n",
              "5039  Color               NaN                    43.0      43.0   \n",
              "5040  Color  Benjamin Roberds                    13.0      76.0   \n",
              "5041  Color       Daniel Hsia                    14.0     100.0   \n",
              "5042  Color          Jon Gunn                    43.0      90.0   \n",
              "\n",
              "      director_facebook_likes  actor_3_facebook_likes      actor_2_name  \\\n",
              "5038                      2.0                   318.0     Daphne Zuniga   \n",
              "5039                      NaN                   319.0     Valorie Curry   \n",
              "5040                      0.0                     0.0     Maxwell Moody   \n",
              "5041                      0.0                   489.0     Daniel Henney   \n",
              "5042                     16.0                    16.0  Brian Herzlinger   \n",
              "\n",
              "      actor_1_facebook_likes    gross                        genres  ...  \\\n",
              "5038                   637.0      NaN                  Comedy|Drama  ...   \n",
              "5039                   841.0      NaN  Crime|Drama|Mystery|Thriller  ...   \n",
              "5040                     0.0      NaN         Drama|Horror|Thriller  ...   \n",
              "5041                   946.0  10443.0          Comedy|Drama|Romance  ...   \n",
              "5042                    86.0  85222.0                   Documentary  ...   \n",
              "\n",
              "     num_user_for_reviews language  country  content_rating  budget  \\\n",
              "5038                  6.0  English   Canada             NaN     NaN   \n",
              "5039                359.0  English      USA           TV-14     NaN   \n",
              "5040                  3.0  English      USA             NaN  1400.0   \n",
              "5041                  9.0  English      USA           PG-13     NaN   \n",
              "5042                 84.0  English      USA              PG  1100.0   \n",
              "\n",
              "      title_year actor_2_facebook_likes imdb_score  aspect_ratio  \\\n",
              "5038      2013.0                  470.0        7.7           NaN   \n",
              "5039         NaN                  593.0        7.5         16.00   \n",
              "5040      2013.0                    0.0        6.3           NaN   \n",
              "5041      2012.0                  719.0        6.3          2.35   \n",
              "5042      2004.0                   23.0        6.6          1.85   \n",
              "\n",
              "     movie_facebook_likes  \n",
              "5038                   84  \n",
              "5039                32000  \n",
              "5040                   16  \n",
              "5041                  660  \n",
              "5042                  456  \n",
              "\n",
              "[5 rows x 28 columns]"
            ],
            "text/html": [
              "\n",
              "  <div id=\"df-60cd7f4a-d2d3-438b-befc-4688da834745\" class=\"colab-df-container\">\n",
              "    <div>\n",
              "<style scoped>\n",
              "    .dataframe tbody tr th:only-of-type {\n",
              "        vertical-align: middle;\n",
              "    }\n",
              "\n",
              "    .dataframe tbody tr th {\n",
              "        vertical-align: top;\n",
              "    }\n",
              "\n",
              "    .dataframe thead th {\n",
              "        text-align: right;\n",
              "    }\n",
              "</style>\n",
              "<table border=\"1\" class=\"dataframe\">\n",
              "  <thead>\n",
              "    <tr style=\"text-align: right;\">\n",
              "      <th></th>\n",
              "      <th>color</th>\n",
              "      <th>director_name</th>\n",
              "      <th>num_critic_for_reviews</th>\n",
              "      <th>duration</th>\n",
              "      <th>director_facebook_likes</th>\n",
              "      <th>actor_3_facebook_likes</th>\n",
              "      <th>actor_2_name</th>\n",
              "      <th>actor_1_facebook_likes</th>\n",
              "      <th>gross</th>\n",
              "      <th>genres</th>\n",
              "      <th>...</th>\n",
              "      <th>num_user_for_reviews</th>\n",
              "      <th>language</th>\n",
              "      <th>country</th>\n",
              "      <th>content_rating</th>\n",
              "      <th>budget</th>\n",
              "      <th>title_year</th>\n",
              "      <th>actor_2_facebook_likes</th>\n",
              "      <th>imdb_score</th>\n",
              "      <th>aspect_ratio</th>\n",
              "      <th>movie_facebook_likes</th>\n",
              "    </tr>\n",
              "  </thead>\n",
              "  <tbody>\n",
              "    <tr>\n",
              "      <th>5038</th>\n",
              "      <td>Color</td>\n",
              "      <td>Scott Smith</td>\n",
              "      <td>1.0</td>\n",
              "      <td>87.0</td>\n",
              "      <td>2.0</td>\n",
              "      <td>318.0</td>\n",
              "      <td>Daphne Zuniga</td>\n",
              "      <td>637.0</td>\n",
              "      <td>NaN</td>\n",
              "      <td>Comedy|Drama</td>\n",
              "      <td>...</td>\n",
              "      <td>6.0</td>\n",
              "      <td>English</td>\n",
              "      <td>Canada</td>\n",
              "      <td>NaN</td>\n",
              "      <td>NaN</td>\n",
              "      <td>2013.0</td>\n",
              "      <td>470.0</td>\n",
              "      <td>7.7</td>\n",
              "      <td>NaN</td>\n",
              "      <td>84</td>\n",
              "    </tr>\n",
              "    <tr>\n",
              "      <th>5039</th>\n",
              "      <td>Color</td>\n",
              "      <td>NaN</td>\n",
              "      <td>43.0</td>\n",
              "      <td>43.0</td>\n",
              "      <td>NaN</td>\n",
              "      <td>319.0</td>\n",
              "      <td>Valorie Curry</td>\n",
              "      <td>841.0</td>\n",
              "      <td>NaN</td>\n",
              "      <td>Crime|Drama|Mystery|Thriller</td>\n",
              "      <td>...</td>\n",
              "      <td>359.0</td>\n",
              "      <td>English</td>\n",
              "      <td>USA</td>\n",
              "      <td>TV-14</td>\n",
              "      <td>NaN</td>\n",
              "      <td>NaN</td>\n",
              "      <td>593.0</td>\n",
              "      <td>7.5</td>\n",
              "      <td>16.00</td>\n",
              "      <td>32000</td>\n",
              "    </tr>\n",
              "    <tr>\n",
              "      <th>5040</th>\n",
              "      <td>Color</td>\n",
              "      <td>Benjamin Roberds</td>\n",
              "      <td>13.0</td>\n",
              "      <td>76.0</td>\n",
              "      <td>0.0</td>\n",
              "      <td>0.0</td>\n",
              "      <td>Maxwell Moody</td>\n",
              "      <td>0.0</td>\n",
              "      <td>NaN</td>\n",
              "      <td>Drama|Horror|Thriller</td>\n",
              "      <td>...</td>\n",
              "      <td>3.0</td>\n",
              "      <td>English</td>\n",
              "      <td>USA</td>\n",
              "      <td>NaN</td>\n",
              "      <td>1400.0</td>\n",
              "      <td>2013.0</td>\n",
              "      <td>0.0</td>\n",
              "      <td>6.3</td>\n",
              "      <td>NaN</td>\n",
              "      <td>16</td>\n",
              "    </tr>\n",
              "    <tr>\n",
              "      <th>5041</th>\n",
              "      <td>Color</td>\n",
              "      <td>Daniel Hsia</td>\n",
              "      <td>14.0</td>\n",
              "      <td>100.0</td>\n",
              "      <td>0.0</td>\n",
              "      <td>489.0</td>\n",
              "      <td>Daniel Henney</td>\n",
              "      <td>946.0</td>\n",
              "      <td>10443.0</td>\n",
              "      <td>Comedy|Drama|Romance</td>\n",
              "      <td>...</td>\n",
              "      <td>9.0</td>\n",
              "      <td>English</td>\n",
              "      <td>USA</td>\n",
              "      <td>PG-13</td>\n",
              "      <td>NaN</td>\n",
              "      <td>2012.0</td>\n",
              "      <td>719.0</td>\n",
              "      <td>6.3</td>\n",
              "      <td>2.35</td>\n",
              "      <td>660</td>\n",
              "    </tr>\n",
              "    <tr>\n",
              "      <th>5042</th>\n",
              "      <td>Color</td>\n",
              "      <td>Jon Gunn</td>\n",
              "      <td>43.0</td>\n",
              "      <td>90.0</td>\n",
              "      <td>16.0</td>\n",
              "      <td>16.0</td>\n",
              "      <td>Brian Herzlinger</td>\n",
              "      <td>86.0</td>\n",
              "      <td>85222.0</td>\n",
              "      <td>Documentary</td>\n",
              "      <td>...</td>\n",
              "      <td>84.0</td>\n",
              "      <td>English</td>\n",
              "      <td>USA</td>\n",
              "      <td>PG</td>\n",
              "      <td>1100.0</td>\n",
              "      <td>2004.0</td>\n",
              "      <td>23.0</td>\n",
              "      <td>6.6</td>\n",
              "      <td>1.85</td>\n",
              "      <td>456</td>\n",
              "    </tr>\n",
              "  </tbody>\n",
              "</table>\n",
              "<p>5 rows × 28 columns</p>\n",
              "</div>\n",
              "    <div class=\"colab-df-buttons\">\n",
              "\n",
              "  <div class=\"colab-df-container\">\n",
              "    <button class=\"colab-df-convert\" onclick=\"convertToInteractive('df-60cd7f4a-d2d3-438b-befc-4688da834745')\"\n",
              "            title=\"Convert this dataframe to an interactive table.\"\n",
              "            style=\"display:none;\">\n",
              "\n",
              "  <svg xmlns=\"http://www.w3.org/2000/svg\" height=\"24px\" viewBox=\"0 -960 960 960\">\n",
              "    <path d=\"M120-120v-720h720v720H120Zm60-500h600v-160H180v160Zm220 220h160v-160H400v160Zm0 220h160v-160H400v160ZM180-400h160v-160H180v160Zm440 0h160v-160H620v160ZM180-180h160v-160H180v160Zm440 0h160v-160H620v160Z\"/>\n",
              "  </svg>\n",
              "    </button>\n",
              "\n",
              "  <style>\n",
              "    .colab-df-container {\n",
              "      display:flex;\n",
              "      gap: 12px;\n",
              "    }\n",
              "\n",
              "    .colab-df-convert {\n",
              "      background-color: #E8F0FE;\n",
              "      border: none;\n",
              "      border-radius: 50%;\n",
              "      cursor: pointer;\n",
              "      display: none;\n",
              "      fill: #1967D2;\n",
              "      height: 32px;\n",
              "      padding: 0 0 0 0;\n",
              "      width: 32px;\n",
              "    }\n",
              "\n",
              "    .colab-df-convert:hover {\n",
              "      background-color: #E2EBFA;\n",
              "      box-shadow: 0px 1px 2px rgba(60, 64, 67, 0.3), 0px 1px 3px 1px rgba(60, 64, 67, 0.15);\n",
              "      fill: #174EA6;\n",
              "    }\n",
              "\n",
              "    .colab-df-buttons div {\n",
              "      margin-bottom: 4px;\n",
              "    }\n",
              "\n",
              "    [theme=dark] .colab-df-convert {\n",
              "      background-color: #3B4455;\n",
              "      fill: #D2E3FC;\n",
              "    }\n",
              "\n",
              "    [theme=dark] .colab-df-convert:hover {\n",
              "      background-color: #434B5C;\n",
              "      box-shadow: 0px 1px 3px 1px rgba(0, 0, 0, 0.15);\n",
              "      filter: drop-shadow(0px 1px 2px rgba(0, 0, 0, 0.3));\n",
              "      fill: #FFFFFF;\n",
              "    }\n",
              "  </style>\n",
              "\n",
              "    <script>\n",
              "      const buttonEl =\n",
              "        document.querySelector('#df-60cd7f4a-d2d3-438b-befc-4688da834745 button.colab-df-convert');\n",
              "      buttonEl.style.display =\n",
              "        google.colab.kernel.accessAllowed ? 'block' : 'none';\n",
              "\n",
              "      async function convertToInteractive(key) {\n",
              "        const element = document.querySelector('#df-60cd7f4a-d2d3-438b-befc-4688da834745');\n",
              "        const dataTable =\n",
              "          await google.colab.kernel.invokeFunction('convertToInteractive',\n",
              "                                                    [key], {});\n",
              "        if (!dataTable) return;\n",
              "\n",
              "        const docLinkHtml = 'Like what you see? Visit the ' +\n",
              "          '<a target=\"_blank\" href=https://colab.research.google.com/notebooks/data_table.ipynb>data table notebook</a>'\n",
              "          + ' to learn more about interactive tables.';\n",
              "        element.innerHTML = '';\n",
              "        dataTable['output_type'] = 'display_data';\n",
              "        await google.colab.output.renderOutput(dataTable, element);\n",
              "        const docLink = document.createElement('div');\n",
              "        docLink.innerHTML = docLinkHtml;\n",
              "        element.appendChild(docLink);\n",
              "      }\n",
              "    </script>\n",
              "  </div>\n",
              "\n",
              "\n",
              "<div id=\"df-7364393f-b8a5-4753-a9e1-459ff1838a8a\">\n",
              "  <button class=\"colab-df-quickchart\" onclick=\"quickchart('df-7364393f-b8a5-4753-a9e1-459ff1838a8a')\"\n",
              "            title=\"Suggest charts\"\n",
              "            style=\"display:none;\">\n",
              "\n",
              "<svg xmlns=\"http://www.w3.org/2000/svg\" height=\"24px\"viewBox=\"0 0 24 24\"\n",
              "     width=\"24px\">\n",
              "    <g>\n",
              "        <path d=\"M19 3H5c-1.1 0-2 .9-2 2v14c0 1.1.9 2 2 2h14c1.1 0 2-.9 2-2V5c0-1.1-.9-2-2-2zM9 17H7v-7h2v7zm4 0h-2V7h2v10zm4 0h-2v-4h2v4z\"/>\n",
              "    </g>\n",
              "</svg>\n",
              "  </button>\n",
              "\n",
              "<style>\n",
              "  .colab-df-quickchart {\n",
              "      --bg-color: #E8F0FE;\n",
              "      --fill-color: #1967D2;\n",
              "      --hover-bg-color: #E2EBFA;\n",
              "      --hover-fill-color: #174EA6;\n",
              "      --disabled-fill-color: #AAA;\n",
              "      --disabled-bg-color: #DDD;\n",
              "  }\n",
              "\n",
              "  [theme=dark] .colab-df-quickchart {\n",
              "      --bg-color: #3B4455;\n",
              "      --fill-color: #D2E3FC;\n",
              "      --hover-bg-color: #434B5C;\n",
              "      --hover-fill-color: #FFFFFF;\n",
              "      --disabled-bg-color: #3B4455;\n",
              "      --disabled-fill-color: #666;\n",
              "  }\n",
              "\n",
              "  .colab-df-quickchart {\n",
              "    background-color: var(--bg-color);\n",
              "    border: none;\n",
              "    border-radius: 50%;\n",
              "    cursor: pointer;\n",
              "    display: none;\n",
              "    fill: var(--fill-color);\n",
              "    height: 32px;\n",
              "    padding: 0;\n",
              "    width: 32px;\n",
              "  }\n",
              "\n",
              "  .colab-df-quickchart:hover {\n",
              "    background-color: var(--hover-bg-color);\n",
              "    box-shadow: 0 1px 2px rgba(60, 64, 67, 0.3), 0 1px 3px 1px rgba(60, 64, 67, 0.15);\n",
              "    fill: var(--button-hover-fill-color);\n",
              "  }\n",
              "\n",
              "  .colab-df-quickchart-complete:disabled,\n",
              "  .colab-df-quickchart-complete:disabled:hover {\n",
              "    background-color: var(--disabled-bg-color);\n",
              "    fill: var(--disabled-fill-color);\n",
              "    box-shadow: none;\n",
              "  }\n",
              "\n",
              "  .colab-df-spinner {\n",
              "    border: 2px solid var(--fill-color);\n",
              "    border-color: transparent;\n",
              "    border-bottom-color: var(--fill-color);\n",
              "    animation:\n",
              "      spin 1s steps(1) infinite;\n",
              "  }\n",
              "\n",
              "  @keyframes spin {\n",
              "    0% {\n",
              "      border-color: transparent;\n",
              "      border-bottom-color: var(--fill-color);\n",
              "      border-left-color: var(--fill-color);\n",
              "    }\n",
              "    20% {\n",
              "      border-color: transparent;\n",
              "      border-left-color: var(--fill-color);\n",
              "      border-top-color: var(--fill-color);\n",
              "    }\n",
              "    30% {\n",
              "      border-color: transparent;\n",
              "      border-left-color: var(--fill-color);\n",
              "      border-top-color: var(--fill-color);\n",
              "      border-right-color: var(--fill-color);\n",
              "    }\n",
              "    40% {\n",
              "      border-color: transparent;\n",
              "      border-right-color: var(--fill-color);\n",
              "      border-top-color: var(--fill-color);\n",
              "    }\n",
              "    60% {\n",
              "      border-color: transparent;\n",
              "      border-right-color: var(--fill-color);\n",
              "    }\n",
              "    80% {\n",
              "      border-color: transparent;\n",
              "      border-right-color: var(--fill-color);\n",
              "      border-bottom-color: var(--fill-color);\n",
              "    }\n",
              "    90% {\n",
              "      border-color: transparent;\n",
              "      border-bottom-color: var(--fill-color);\n",
              "    }\n",
              "  }\n",
              "</style>\n",
              "\n",
              "  <script>\n",
              "    async function quickchart(key) {\n",
              "      const quickchartButtonEl =\n",
              "        document.querySelector('#' + key + ' button');\n",
              "      quickchartButtonEl.disabled = true;  // To prevent multiple clicks.\n",
              "      quickchartButtonEl.classList.add('colab-df-spinner');\n",
              "      try {\n",
              "        const charts = await google.colab.kernel.invokeFunction(\n",
              "            'suggestCharts', [key], {});\n",
              "      } catch (error) {\n",
              "        console.error('Error during call to suggestCharts:', error);\n",
              "      }\n",
              "      quickchartButtonEl.classList.remove('colab-df-spinner');\n",
              "      quickchartButtonEl.classList.add('colab-df-quickchart-complete');\n",
              "    }\n",
              "    (() => {\n",
              "      let quickchartButtonEl =\n",
              "        document.querySelector('#df-7364393f-b8a5-4753-a9e1-459ff1838a8a button');\n",
              "      quickchartButtonEl.style.display =\n",
              "        google.colab.kernel.accessAllowed ? 'block' : 'none';\n",
              "    })();\n",
              "  </script>\n",
              "</div>\n",
              "    </div>\n",
              "  </div>\n"
            ]
          },
          "metadata": {},
          "execution_count": 1
        }
      ],
      "source": [
        "#this is a code cell. Write the code that you want to do things in it. Include some comments with the code to\n",
        "#explain what you are doing, where appropriate.\n",
        "\n",
        "myfile='movie_metadata.csv'\n",
        "#standard imports for when working with pandas\n",
        "import numpy as np\n",
        "#matplotlib inline\n",
        "from matplotlib import pyplot as plt\n",
        "import pandas as pd\n",
        "\n",
        "myfile = 'movie_metadata.csv'\n",
        "\n",
        "#read the movie metadata file into a dataframe in pandas.\n",
        "df = pd.read_csv(myfile,index_col=None)\n",
        "df.tail()\n"
      ]
    },
    {
      "cell_type": "code",
      "source": [
        "# finding how many rows and columns are present\n",
        "df.shape"
      ],
      "metadata": {
        "colab": {
          "base_uri": "https://localhost:8080/"
        },
        "id": "dAxuktX1IYVK",
        "outputId": "65644fae-6c82-40da-8311-f7224c4a9a58"
      },
      "execution_count": 2,
      "outputs": [
        {
          "output_type": "execute_result",
          "data": {
            "text/plain": [
              "(5043, 28)"
            ]
          },
          "metadata": {},
          "execution_count": 2
        }
      ]
    },
    {
      "cell_type": "markdown",
      "metadata": {
        "id": "9An6sbvJUhhV"
      },
      "source": [
        "In this cell you should write the basic background to your exploration of the data (you should explain to sufficient detail so that a reader who knows nothing about the dataset understands what it is that you are doing):\n",
        "\n",
        "I have included below a VERY BASIC EXAMPLE to give you an idea of what to write:\n",
        "\n",
        "Here I sort the mean imdb score and budget across films by genre. Set a minimum imdb score and filter according to that. We are interested only in high scores so we are only looking at films with good ratings."
      ]
    },
    {
      "cell_type": "code",
      "execution_count": 3,
      "metadata": {
        "id": "dwY0Php2UhhW",
        "colab": {
          "base_uri": "https://localhost:8080/",
          "height": 238
        },
        "outputId": "7881ea62-3d44-440f-a8a1-9db280c4c2ea"
      },
      "outputs": [
        {
          "output_type": "execute_result",
          "data": {
            "text/plain": [
              "                                              imdb_score      budget\n",
              "genres                                                              \n",
              "Action|Adventure|Crime|Drama|Sci-Fi|Thriller         8.8         NaN\n",
              "Action|Adventure|Biography|Drama|History             8.6         NaN\n",
              "Action|Drama|History|Thriller|War                    8.5   4400000.0\n",
              "Adventure|Animation|Drama|Family|Musical             8.5  45000000.0\n",
              "Crime|Drama|Fantasy|Mystery                          8.5  60000000.0"
            ],
            "text/html": [
              "\n",
              "  <div id=\"df-1cfc2c70-21c1-42c9-97ff-8d8b8ee07bd7\" class=\"colab-df-container\">\n",
              "    <div>\n",
              "<style scoped>\n",
              "    .dataframe tbody tr th:only-of-type {\n",
              "        vertical-align: middle;\n",
              "    }\n",
              "\n",
              "    .dataframe tbody tr th {\n",
              "        vertical-align: top;\n",
              "    }\n",
              "\n",
              "    .dataframe thead th {\n",
              "        text-align: right;\n",
              "    }\n",
              "</style>\n",
              "<table border=\"1\" class=\"dataframe\">\n",
              "  <thead>\n",
              "    <tr style=\"text-align: right;\">\n",
              "      <th></th>\n",
              "      <th>imdb_score</th>\n",
              "      <th>budget</th>\n",
              "    </tr>\n",
              "    <tr>\n",
              "      <th>genres</th>\n",
              "      <th></th>\n",
              "      <th></th>\n",
              "    </tr>\n",
              "  </thead>\n",
              "  <tbody>\n",
              "    <tr>\n",
              "      <th>Action|Adventure|Crime|Drama|Sci-Fi|Thriller</th>\n",
              "      <td>8.8</td>\n",
              "      <td>NaN</td>\n",
              "    </tr>\n",
              "    <tr>\n",
              "      <th>Action|Adventure|Biography|Drama|History</th>\n",
              "      <td>8.6</td>\n",
              "      <td>NaN</td>\n",
              "    </tr>\n",
              "    <tr>\n",
              "      <th>Action|Drama|History|Thriller|War</th>\n",
              "      <td>8.5</td>\n",
              "      <td>4400000.0</td>\n",
              "    </tr>\n",
              "    <tr>\n",
              "      <th>Adventure|Animation|Drama|Family|Musical</th>\n",
              "      <td>8.5</td>\n",
              "      <td>45000000.0</td>\n",
              "    </tr>\n",
              "    <tr>\n",
              "      <th>Crime|Drama|Fantasy|Mystery</th>\n",
              "      <td>8.5</td>\n",
              "      <td>60000000.0</td>\n",
              "    </tr>\n",
              "  </tbody>\n",
              "</table>\n",
              "</div>\n",
              "    <div class=\"colab-df-buttons\">\n",
              "\n",
              "  <div class=\"colab-df-container\">\n",
              "    <button class=\"colab-df-convert\" onclick=\"convertToInteractive('df-1cfc2c70-21c1-42c9-97ff-8d8b8ee07bd7')\"\n",
              "            title=\"Convert this dataframe to an interactive table.\"\n",
              "            style=\"display:none;\">\n",
              "\n",
              "  <svg xmlns=\"http://www.w3.org/2000/svg\" height=\"24px\" viewBox=\"0 -960 960 960\">\n",
              "    <path d=\"M120-120v-720h720v720H120Zm60-500h600v-160H180v160Zm220 220h160v-160H400v160Zm0 220h160v-160H400v160ZM180-400h160v-160H180v160Zm440 0h160v-160H620v160ZM180-180h160v-160H180v160Zm440 0h160v-160H620v160Z\"/>\n",
              "  </svg>\n",
              "    </button>\n",
              "\n",
              "  <style>\n",
              "    .colab-df-container {\n",
              "      display:flex;\n",
              "      gap: 12px;\n",
              "    }\n",
              "\n",
              "    .colab-df-convert {\n",
              "      background-color: #E8F0FE;\n",
              "      border: none;\n",
              "      border-radius: 50%;\n",
              "      cursor: pointer;\n",
              "      display: none;\n",
              "      fill: #1967D2;\n",
              "      height: 32px;\n",
              "      padding: 0 0 0 0;\n",
              "      width: 32px;\n",
              "    }\n",
              "\n",
              "    .colab-df-convert:hover {\n",
              "      background-color: #E2EBFA;\n",
              "      box-shadow: 0px 1px 2px rgba(60, 64, 67, 0.3), 0px 1px 3px 1px rgba(60, 64, 67, 0.15);\n",
              "      fill: #174EA6;\n",
              "    }\n",
              "\n",
              "    .colab-df-buttons div {\n",
              "      margin-bottom: 4px;\n",
              "    }\n",
              "\n",
              "    [theme=dark] .colab-df-convert {\n",
              "      background-color: #3B4455;\n",
              "      fill: #D2E3FC;\n",
              "    }\n",
              "\n",
              "    [theme=dark] .colab-df-convert:hover {\n",
              "      background-color: #434B5C;\n",
              "      box-shadow: 0px 1px 3px 1px rgba(0, 0, 0, 0.15);\n",
              "      filter: drop-shadow(0px 1px 2px rgba(0, 0, 0, 0.3));\n",
              "      fill: #FFFFFF;\n",
              "    }\n",
              "  </style>\n",
              "\n",
              "    <script>\n",
              "      const buttonEl =\n",
              "        document.querySelector('#df-1cfc2c70-21c1-42c9-97ff-8d8b8ee07bd7 button.colab-df-convert');\n",
              "      buttonEl.style.display =\n",
              "        google.colab.kernel.accessAllowed ? 'block' : 'none';\n",
              "\n",
              "      async function convertToInteractive(key) {\n",
              "        const element = document.querySelector('#df-1cfc2c70-21c1-42c9-97ff-8d8b8ee07bd7');\n",
              "        const dataTable =\n",
              "          await google.colab.kernel.invokeFunction('convertToInteractive',\n",
              "                                                    [key], {});\n",
              "        if (!dataTable) return;\n",
              "\n",
              "        const docLinkHtml = 'Like what you see? Visit the ' +\n",
              "          '<a target=\"_blank\" href=https://colab.research.google.com/notebooks/data_table.ipynb>data table notebook</a>'\n",
              "          + ' to learn more about interactive tables.';\n",
              "        element.innerHTML = '';\n",
              "        dataTable['output_type'] = 'display_data';\n",
              "        await google.colab.output.renderOutput(dataTable, element);\n",
              "        const docLink = document.createElement('div');\n",
              "        docLink.innerHTML = docLinkHtml;\n",
              "        element.appendChild(docLink);\n",
              "      }\n",
              "    </script>\n",
              "  </div>\n",
              "\n",
              "\n",
              "<div id=\"df-2ca92c61-a819-497c-8315-2f582de0ef85\">\n",
              "  <button class=\"colab-df-quickchart\" onclick=\"quickchart('df-2ca92c61-a819-497c-8315-2f582de0ef85')\"\n",
              "            title=\"Suggest charts\"\n",
              "            style=\"display:none;\">\n",
              "\n",
              "<svg xmlns=\"http://www.w3.org/2000/svg\" height=\"24px\"viewBox=\"0 0 24 24\"\n",
              "     width=\"24px\">\n",
              "    <g>\n",
              "        <path d=\"M19 3H5c-1.1 0-2 .9-2 2v14c0 1.1.9 2 2 2h14c1.1 0 2-.9 2-2V5c0-1.1-.9-2-2-2zM9 17H7v-7h2v7zm4 0h-2V7h2v10zm4 0h-2v-4h2v4z\"/>\n",
              "    </g>\n",
              "</svg>\n",
              "  </button>\n",
              "\n",
              "<style>\n",
              "  .colab-df-quickchart {\n",
              "      --bg-color: #E8F0FE;\n",
              "      --fill-color: #1967D2;\n",
              "      --hover-bg-color: #E2EBFA;\n",
              "      --hover-fill-color: #174EA6;\n",
              "      --disabled-fill-color: #AAA;\n",
              "      --disabled-bg-color: #DDD;\n",
              "  }\n",
              "\n",
              "  [theme=dark] .colab-df-quickchart {\n",
              "      --bg-color: #3B4455;\n",
              "      --fill-color: #D2E3FC;\n",
              "      --hover-bg-color: #434B5C;\n",
              "      --hover-fill-color: #FFFFFF;\n",
              "      --disabled-bg-color: #3B4455;\n",
              "      --disabled-fill-color: #666;\n",
              "  }\n",
              "\n",
              "  .colab-df-quickchart {\n",
              "    background-color: var(--bg-color);\n",
              "    border: none;\n",
              "    border-radius: 50%;\n",
              "    cursor: pointer;\n",
              "    display: none;\n",
              "    fill: var(--fill-color);\n",
              "    height: 32px;\n",
              "    padding: 0;\n",
              "    width: 32px;\n",
              "  }\n",
              "\n",
              "  .colab-df-quickchart:hover {\n",
              "    background-color: var(--hover-bg-color);\n",
              "    box-shadow: 0 1px 2px rgba(60, 64, 67, 0.3), 0 1px 3px 1px rgba(60, 64, 67, 0.15);\n",
              "    fill: var(--button-hover-fill-color);\n",
              "  }\n",
              "\n",
              "  .colab-df-quickchart-complete:disabled,\n",
              "  .colab-df-quickchart-complete:disabled:hover {\n",
              "    background-color: var(--disabled-bg-color);\n",
              "    fill: var(--disabled-fill-color);\n",
              "    box-shadow: none;\n",
              "  }\n",
              "\n",
              "  .colab-df-spinner {\n",
              "    border: 2px solid var(--fill-color);\n",
              "    border-color: transparent;\n",
              "    border-bottom-color: var(--fill-color);\n",
              "    animation:\n",
              "      spin 1s steps(1) infinite;\n",
              "  }\n",
              "\n",
              "  @keyframes spin {\n",
              "    0% {\n",
              "      border-color: transparent;\n",
              "      border-bottom-color: var(--fill-color);\n",
              "      border-left-color: var(--fill-color);\n",
              "    }\n",
              "    20% {\n",
              "      border-color: transparent;\n",
              "      border-left-color: var(--fill-color);\n",
              "      border-top-color: var(--fill-color);\n",
              "    }\n",
              "    30% {\n",
              "      border-color: transparent;\n",
              "      border-left-color: var(--fill-color);\n",
              "      border-top-color: var(--fill-color);\n",
              "      border-right-color: var(--fill-color);\n",
              "    }\n",
              "    40% {\n",
              "      border-color: transparent;\n",
              "      border-right-color: var(--fill-color);\n",
              "      border-top-color: var(--fill-color);\n",
              "    }\n",
              "    60% {\n",
              "      border-color: transparent;\n",
              "      border-right-color: var(--fill-color);\n",
              "    }\n",
              "    80% {\n",
              "      border-color: transparent;\n",
              "      border-right-color: var(--fill-color);\n",
              "      border-bottom-color: var(--fill-color);\n",
              "    }\n",
              "    90% {\n",
              "      border-color: transparent;\n",
              "      border-bottom-color: var(--fill-color);\n",
              "    }\n",
              "  }\n",
              "</style>\n",
              "\n",
              "  <script>\n",
              "    async function quickchart(key) {\n",
              "      const quickchartButtonEl =\n",
              "        document.querySelector('#' + key + ' button');\n",
              "      quickchartButtonEl.disabled = true;  // To prevent multiple clicks.\n",
              "      quickchartButtonEl.classList.add('colab-df-spinner');\n",
              "      try {\n",
              "        const charts = await google.colab.kernel.invokeFunction(\n",
              "            'suggestCharts', [key], {});\n",
              "      } catch (error) {\n",
              "        console.error('Error during call to suggestCharts:', error);\n",
              "      }\n",
              "      quickchartButtonEl.classList.remove('colab-df-spinner');\n",
              "      quickchartButtonEl.classList.add('colab-df-quickchart-complete');\n",
              "    }\n",
              "    (() => {\n",
              "      let quickchartButtonEl =\n",
              "        document.querySelector('#df-2ca92c61-a819-497c-8315-2f582de0ef85 button');\n",
              "      quickchartButtonEl.style.display =\n",
              "        google.colab.kernel.accessAllowed ? 'block' : 'none';\n",
              "    })();\n",
              "  </script>\n",
              "</div>\n",
              "    </div>\n",
              "  </div>\n"
            ]
          },
          "metadata": {},
          "execution_count": 3
        }
      ],
      "source": [
        "genreseries=df.groupby('genres')[['imdb_score','budget']].mean()\n",
        "#set the minimum imdb score that I care about to 8\n",
        "min_imdb_score=8\n",
        "top_rated_genre = genreseries[genreseries['imdb_score']>min_imdb_score]\n",
        "top_rated_genre = top_rated_genre.sort_values('imdb_score', ascending=False)\n",
        "#print the genres for inspection\n",
        "top_rated_genre.head()"
      ]
    },
    {
      "cell_type": "markdown",
      "metadata": {
        "id": "R8di2iI7Uhhb"
      },
      "source": [
        "In this cell you should explain what your findings are and what this means.\n",
        "\n",
        "I have included below a VERY BASIC EXAMPLE to give you an idea of what to write (note, here the explanation is over simple, yours should be much better):\n",
        "\n",
        "There appears to be some well-rated genres that we could propose as better options to make a film. To examine if any of these good film genres can be made within our budget, I filtered by a maximum 500 000 and looked at the gross return."
      ]
    },
    {
      "cell_type": "markdown",
      "source": [],
      "metadata": {
        "id": "Gh-J6qKHtuSA"
      }
    },
    {
      "cell_type": "code",
      "execution_count": 4,
      "metadata": {
        "id": "_GinY5piUhhd",
        "outputId": "2fe1b846-fcf3-493e-c60f-185a062803fc",
        "colab": {
          "base_uri": "https://localhost:8080/",
          "height": 238
        }
      },
      "outputs": [
        {
          "output_type": "execute_result",
          "data": {
            "text/plain": [
              "                             imdb_score    budget      gross\n",
              "genres                                                      \n",
              "Documentary|Family                8.200  125000.0        NaN\n",
              "Crime|Documentary                 8.000  200000.0  2156472.5\n",
              "Documentary|History|Music         7.800  400000.0  6757592.5\n",
              "Biography|Documentary|Music       7.525  300000.0  6531469.5\n",
              "Biography|Documentary             7.300   25109.0   592014.0"
            ],
            "text/html": [
              "\n",
              "  <div id=\"df-b2fed576-ad65-41bb-b2a7-420801563c52\" class=\"colab-df-container\">\n",
              "    <div>\n",
              "<style scoped>\n",
              "    .dataframe tbody tr th:only-of-type {\n",
              "        vertical-align: middle;\n",
              "    }\n",
              "\n",
              "    .dataframe tbody tr th {\n",
              "        vertical-align: top;\n",
              "    }\n",
              "\n",
              "    .dataframe thead th {\n",
              "        text-align: right;\n",
              "    }\n",
              "</style>\n",
              "<table border=\"1\" class=\"dataframe\">\n",
              "  <thead>\n",
              "    <tr style=\"text-align: right;\">\n",
              "      <th></th>\n",
              "      <th>imdb_score</th>\n",
              "      <th>budget</th>\n",
              "      <th>gross</th>\n",
              "    </tr>\n",
              "    <tr>\n",
              "      <th>genres</th>\n",
              "      <th></th>\n",
              "      <th></th>\n",
              "      <th></th>\n",
              "    </tr>\n",
              "  </thead>\n",
              "  <tbody>\n",
              "    <tr>\n",
              "      <th>Documentary|Family</th>\n",
              "      <td>8.200</td>\n",
              "      <td>125000.0</td>\n",
              "      <td>NaN</td>\n",
              "    </tr>\n",
              "    <tr>\n",
              "      <th>Crime|Documentary</th>\n",
              "      <td>8.000</td>\n",
              "      <td>200000.0</td>\n",
              "      <td>2156472.5</td>\n",
              "    </tr>\n",
              "    <tr>\n",
              "      <th>Documentary|History|Music</th>\n",
              "      <td>7.800</td>\n",
              "      <td>400000.0</td>\n",
              "      <td>6757592.5</td>\n",
              "    </tr>\n",
              "    <tr>\n",
              "      <th>Biography|Documentary|Music</th>\n",
              "      <td>7.525</td>\n",
              "      <td>300000.0</td>\n",
              "      <td>6531469.5</td>\n",
              "    </tr>\n",
              "    <tr>\n",
              "      <th>Biography|Documentary</th>\n",
              "      <td>7.300</td>\n",
              "      <td>25109.0</td>\n",
              "      <td>592014.0</td>\n",
              "    </tr>\n",
              "  </tbody>\n",
              "</table>\n",
              "</div>\n",
              "    <div class=\"colab-df-buttons\">\n",
              "\n",
              "  <div class=\"colab-df-container\">\n",
              "    <button class=\"colab-df-convert\" onclick=\"convertToInteractive('df-b2fed576-ad65-41bb-b2a7-420801563c52')\"\n",
              "            title=\"Convert this dataframe to an interactive table.\"\n",
              "            style=\"display:none;\">\n",
              "\n",
              "  <svg xmlns=\"http://www.w3.org/2000/svg\" height=\"24px\" viewBox=\"0 -960 960 960\">\n",
              "    <path d=\"M120-120v-720h720v720H120Zm60-500h600v-160H180v160Zm220 220h160v-160H400v160Zm0 220h160v-160H400v160ZM180-400h160v-160H180v160Zm440 0h160v-160H620v160ZM180-180h160v-160H180v160Zm440 0h160v-160H620v160Z\"/>\n",
              "  </svg>\n",
              "    </button>\n",
              "\n",
              "  <style>\n",
              "    .colab-df-container {\n",
              "      display:flex;\n",
              "      gap: 12px;\n",
              "    }\n",
              "\n",
              "    .colab-df-convert {\n",
              "      background-color: #E8F0FE;\n",
              "      border: none;\n",
              "      border-radius: 50%;\n",
              "      cursor: pointer;\n",
              "      display: none;\n",
              "      fill: #1967D2;\n",
              "      height: 32px;\n",
              "      padding: 0 0 0 0;\n",
              "      width: 32px;\n",
              "    }\n",
              "\n",
              "    .colab-df-convert:hover {\n",
              "      background-color: #E2EBFA;\n",
              "      box-shadow: 0px 1px 2px rgba(60, 64, 67, 0.3), 0px 1px 3px 1px rgba(60, 64, 67, 0.15);\n",
              "      fill: #174EA6;\n",
              "    }\n",
              "\n",
              "    .colab-df-buttons div {\n",
              "      margin-bottom: 4px;\n",
              "    }\n",
              "\n",
              "    [theme=dark] .colab-df-convert {\n",
              "      background-color: #3B4455;\n",
              "      fill: #D2E3FC;\n",
              "    }\n",
              "\n",
              "    [theme=dark] .colab-df-convert:hover {\n",
              "      background-color: #434B5C;\n",
              "      box-shadow: 0px 1px 3px 1px rgba(0, 0, 0, 0.15);\n",
              "      filter: drop-shadow(0px 1px 2px rgba(0, 0, 0, 0.3));\n",
              "      fill: #FFFFFF;\n",
              "    }\n",
              "  </style>\n",
              "\n",
              "    <script>\n",
              "      const buttonEl =\n",
              "        document.querySelector('#df-b2fed576-ad65-41bb-b2a7-420801563c52 button.colab-df-convert');\n",
              "      buttonEl.style.display =\n",
              "        google.colab.kernel.accessAllowed ? 'block' : 'none';\n",
              "\n",
              "      async function convertToInteractive(key) {\n",
              "        const element = document.querySelector('#df-b2fed576-ad65-41bb-b2a7-420801563c52');\n",
              "        const dataTable =\n",
              "          await google.colab.kernel.invokeFunction('convertToInteractive',\n",
              "                                                    [key], {});\n",
              "        if (!dataTable) return;\n",
              "\n",
              "        const docLinkHtml = 'Like what you see? Visit the ' +\n",
              "          '<a target=\"_blank\" href=https://colab.research.google.com/notebooks/data_table.ipynb>data table notebook</a>'\n",
              "          + ' to learn more about interactive tables.';\n",
              "        element.innerHTML = '';\n",
              "        dataTable['output_type'] = 'display_data';\n",
              "        await google.colab.output.renderOutput(dataTable, element);\n",
              "        const docLink = document.createElement('div');\n",
              "        docLink.innerHTML = docLinkHtml;\n",
              "        element.appendChild(docLink);\n",
              "      }\n",
              "    </script>\n",
              "  </div>\n",
              "\n",
              "\n",
              "<div id=\"df-557eeada-ceb2-48cb-8edc-992122bbdbd3\">\n",
              "  <button class=\"colab-df-quickchart\" onclick=\"quickchart('df-557eeada-ceb2-48cb-8edc-992122bbdbd3')\"\n",
              "            title=\"Suggest charts\"\n",
              "            style=\"display:none;\">\n",
              "\n",
              "<svg xmlns=\"http://www.w3.org/2000/svg\" height=\"24px\"viewBox=\"0 0 24 24\"\n",
              "     width=\"24px\">\n",
              "    <g>\n",
              "        <path d=\"M19 3H5c-1.1 0-2 .9-2 2v14c0 1.1.9 2 2 2h14c1.1 0 2-.9 2-2V5c0-1.1-.9-2-2-2zM9 17H7v-7h2v7zm4 0h-2V7h2v10zm4 0h-2v-4h2v4z\"/>\n",
              "    </g>\n",
              "</svg>\n",
              "  </button>\n",
              "\n",
              "<style>\n",
              "  .colab-df-quickchart {\n",
              "      --bg-color: #E8F0FE;\n",
              "      --fill-color: #1967D2;\n",
              "      --hover-bg-color: #E2EBFA;\n",
              "      --hover-fill-color: #174EA6;\n",
              "      --disabled-fill-color: #AAA;\n",
              "      --disabled-bg-color: #DDD;\n",
              "  }\n",
              "\n",
              "  [theme=dark] .colab-df-quickchart {\n",
              "      --bg-color: #3B4455;\n",
              "      --fill-color: #D2E3FC;\n",
              "      --hover-bg-color: #434B5C;\n",
              "      --hover-fill-color: #FFFFFF;\n",
              "      --disabled-bg-color: #3B4455;\n",
              "      --disabled-fill-color: #666;\n",
              "  }\n",
              "\n",
              "  .colab-df-quickchart {\n",
              "    background-color: var(--bg-color);\n",
              "    border: none;\n",
              "    border-radius: 50%;\n",
              "    cursor: pointer;\n",
              "    display: none;\n",
              "    fill: var(--fill-color);\n",
              "    height: 32px;\n",
              "    padding: 0;\n",
              "    width: 32px;\n",
              "  }\n",
              "\n",
              "  .colab-df-quickchart:hover {\n",
              "    background-color: var(--hover-bg-color);\n",
              "    box-shadow: 0 1px 2px rgba(60, 64, 67, 0.3), 0 1px 3px 1px rgba(60, 64, 67, 0.15);\n",
              "    fill: var(--button-hover-fill-color);\n",
              "  }\n",
              "\n",
              "  .colab-df-quickchart-complete:disabled,\n",
              "  .colab-df-quickchart-complete:disabled:hover {\n",
              "    background-color: var(--disabled-bg-color);\n",
              "    fill: var(--disabled-fill-color);\n",
              "    box-shadow: none;\n",
              "  }\n",
              "\n",
              "  .colab-df-spinner {\n",
              "    border: 2px solid var(--fill-color);\n",
              "    border-color: transparent;\n",
              "    border-bottom-color: var(--fill-color);\n",
              "    animation:\n",
              "      spin 1s steps(1) infinite;\n",
              "  }\n",
              "\n",
              "  @keyframes spin {\n",
              "    0% {\n",
              "      border-color: transparent;\n",
              "      border-bottom-color: var(--fill-color);\n",
              "      border-left-color: var(--fill-color);\n",
              "    }\n",
              "    20% {\n",
              "      border-color: transparent;\n",
              "      border-left-color: var(--fill-color);\n",
              "      border-top-color: var(--fill-color);\n",
              "    }\n",
              "    30% {\n",
              "      border-color: transparent;\n",
              "      border-left-color: var(--fill-color);\n",
              "      border-top-color: var(--fill-color);\n",
              "      border-right-color: var(--fill-color);\n",
              "    }\n",
              "    40% {\n",
              "      border-color: transparent;\n",
              "      border-right-color: var(--fill-color);\n",
              "      border-top-color: var(--fill-color);\n",
              "    }\n",
              "    60% {\n",
              "      border-color: transparent;\n",
              "      border-right-color: var(--fill-color);\n",
              "    }\n",
              "    80% {\n",
              "      border-color: transparent;\n",
              "      border-right-color: var(--fill-color);\n",
              "      border-bottom-color: var(--fill-color);\n",
              "    }\n",
              "    90% {\n",
              "      border-color: transparent;\n",
              "      border-bottom-color: var(--fill-color);\n",
              "    }\n",
              "  }\n",
              "</style>\n",
              "\n",
              "  <script>\n",
              "    async function quickchart(key) {\n",
              "      const quickchartButtonEl =\n",
              "        document.querySelector('#' + key + ' button');\n",
              "      quickchartButtonEl.disabled = true;  // To prevent multiple clicks.\n",
              "      quickchartButtonEl.classList.add('colab-df-spinner');\n",
              "      try {\n",
              "        const charts = await google.colab.kernel.invokeFunction(\n",
              "            'suggestCharts', [key], {});\n",
              "      } catch (error) {\n",
              "        console.error('Error during call to suggestCharts:', error);\n",
              "      }\n",
              "      quickchartButtonEl.classList.remove('colab-df-spinner');\n",
              "      quickchartButtonEl.classList.add('colab-df-quickchart-complete');\n",
              "    }\n",
              "    (() => {\n",
              "      let quickchartButtonEl =\n",
              "        document.querySelector('#df-557eeada-ceb2-48cb-8edc-992122bbdbd3 button');\n",
              "      quickchartButtonEl.style.display =\n",
              "        google.colab.kernel.accessAllowed ? 'block' : 'none';\n",
              "    })();\n",
              "  </script>\n",
              "</div>\n",
              "    </div>\n",
              "  </div>\n"
            ]
          },
          "metadata": {},
          "execution_count": 4
        }
      ],
      "source": [
        "#set the maximum possible budget to 500 000\n",
        "max_budget = 500000\n",
        "topgenreseries=df.groupby('genres')[['imdb_score','budget','gross']].mean()\n",
        "#find the details of films with less than the maximum budget\n",
        "budget_genres = topgenreseries[topgenreseries['budget']<max_budget]\n",
        "budget_genres = budget_genres.sort_values('imdb_score',ascending=False)\n",
        "budget_genres.head()"
      ]
    },
    {
      "cell_type": "markdown",
      "metadata": {
        "id": "89MQtSbYUhhu"
      },
      "source": [
        "The Documentary|Family genre seems to be well-rated and within our budget. Taking a look at the details more closely we can see that there is actually only one film that meets the criteria of budget and imdb rating:"
      ]
    },
    {
      "cell_type": "code",
      "execution_count": 5,
      "metadata": {
        "id": "pYHivNWuUhhv",
        "outputId": "64cd7394-a289-486c-caff-823a03f4e00a",
        "colab": {
          "base_uri": "https://localhost:8080/",
          "height": 165
        }
      },
      "outputs": [
        {
          "output_type": "execute_result",
          "data": {
            "text/plain": [
              "      color    director_name  num_critic_for_reviews  duration  \\\n",
              "4945  Color  Amal Al-Agroobi                     NaN      62.0   \n",
              "\n",
              "      director_facebook_likes  actor_3_facebook_likes actor_2_name  \\\n",
              "4945                     58.0                     NaN          NaN   \n",
              "\n",
              "      actor_1_facebook_likes  gross              genres  ...  \\\n",
              "4945                     NaN    NaN  Documentary|Family  ...   \n",
              "\n",
              "     num_user_for_reviews language               country  content_rating  \\\n",
              "4945                  NaN   Arabic  United Arab Emirates             NaN   \n",
              "\n",
              "        budget  title_year actor_2_facebook_likes imdb_score  aspect_ratio  \\\n",
              "4945  125000.0      2013.0                    NaN        8.2           NaN   \n",
              "\n",
              "     movie_facebook_likes  \n",
              "4945                   54  \n",
              "\n",
              "[1 rows x 28 columns]"
            ],
            "text/html": [
              "\n",
              "  <div id=\"df-c33b3d23-c28c-400f-9579-549d55da5942\" class=\"colab-df-container\">\n",
              "    <div>\n",
              "<style scoped>\n",
              "    .dataframe tbody tr th:only-of-type {\n",
              "        vertical-align: middle;\n",
              "    }\n",
              "\n",
              "    .dataframe tbody tr th {\n",
              "        vertical-align: top;\n",
              "    }\n",
              "\n",
              "    .dataframe thead th {\n",
              "        text-align: right;\n",
              "    }\n",
              "</style>\n",
              "<table border=\"1\" class=\"dataframe\">\n",
              "  <thead>\n",
              "    <tr style=\"text-align: right;\">\n",
              "      <th></th>\n",
              "      <th>color</th>\n",
              "      <th>director_name</th>\n",
              "      <th>num_critic_for_reviews</th>\n",
              "      <th>duration</th>\n",
              "      <th>director_facebook_likes</th>\n",
              "      <th>actor_3_facebook_likes</th>\n",
              "      <th>actor_2_name</th>\n",
              "      <th>actor_1_facebook_likes</th>\n",
              "      <th>gross</th>\n",
              "      <th>genres</th>\n",
              "      <th>...</th>\n",
              "      <th>num_user_for_reviews</th>\n",
              "      <th>language</th>\n",
              "      <th>country</th>\n",
              "      <th>content_rating</th>\n",
              "      <th>budget</th>\n",
              "      <th>title_year</th>\n",
              "      <th>actor_2_facebook_likes</th>\n",
              "      <th>imdb_score</th>\n",
              "      <th>aspect_ratio</th>\n",
              "      <th>movie_facebook_likes</th>\n",
              "    </tr>\n",
              "  </thead>\n",
              "  <tbody>\n",
              "    <tr>\n",
              "      <th>4945</th>\n",
              "      <td>Color</td>\n",
              "      <td>Amal Al-Agroobi</td>\n",
              "      <td>NaN</td>\n",
              "      <td>62.0</td>\n",
              "      <td>58.0</td>\n",
              "      <td>NaN</td>\n",
              "      <td>NaN</td>\n",
              "      <td>NaN</td>\n",
              "      <td>NaN</td>\n",
              "      <td>Documentary|Family</td>\n",
              "      <td>...</td>\n",
              "      <td>NaN</td>\n",
              "      <td>Arabic</td>\n",
              "      <td>United Arab Emirates</td>\n",
              "      <td>NaN</td>\n",
              "      <td>125000.0</td>\n",
              "      <td>2013.0</td>\n",
              "      <td>NaN</td>\n",
              "      <td>8.2</td>\n",
              "      <td>NaN</td>\n",
              "      <td>54</td>\n",
              "    </tr>\n",
              "  </tbody>\n",
              "</table>\n",
              "<p>1 rows × 28 columns</p>\n",
              "</div>\n",
              "    <div class=\"colab-df-buttons\">\n",
              "\n",
              "  <div class=\"colab-df-container\">\n",
              "    <button class=\"colab-df-convert\" onclick=\"convertToInteractive('df-c33b3d23-c28c-400f-9579-549d55da5942')\"\n",
              "            title=\"Convert this dataframe to an interactive table.\"\n",
              "            style=\"display:none;\">\n",
              "\n",
              "  <svg xmlns=\"http://www.w3.org/2000/svg\" height=\"24px\" viewBox=\"0 -960 960 960\">\n",
              "    <path d=\"M120-120v-720h720v720H120Zm60-500h600v-160H180v160Zm220 220h160v-160H400v160Zm0 220h160v-160H400v160ZM180-400h160v-160H180v160Zm440 0h160v-160H620v160ZM180-180h160v-160H180v160Zm440 0h160v-160H620v160Z\"/>\n",
              "  </svg>\n",
              "    </button>\n",
              "\n",
              "  <style>\n",
              "    .colab-df-container {\n",
              "      display:flex;\n",
              "      gap: 12px;\n",
              "    }\n",
              "\n",
              "    .colab-df-convert {\n",
              "      background-color: #E8F0FE;\n",
              "      border: none;\n",
              "      border-radius: 50%;\n",
              "      cursor: pointer;\n",
              "      display: none;\n",
              "      fill: #1967D2;\n",
              "      height: 32px;\n",
              "      padding: 0 0 0 0;\n",
              "      width: 32px;\n",
              "    }\n",
              "\n",
              "    .colab-df-convert:hover {\n",
              "      background-color: #E2EBFA;\n",
              "      box-shadow: 0px 1px 2px rgba(60, 64, 67, 0.3), 0px 1px 3px 1px rgba(60, 64, 67, 0.15);\n",
              "      fill: #174EA6;\n",
              "    }\n",
              "\n",
              "    .colab-df-buttons div {\n",
              "      margin-bottom: 4px;\n",
              "    }\n",
              "\n",
              "    [theme=dark] .colab-df-convert {\n",
              "      background-color: #3B4455;\n",
              "      fill: #D2E3FC;\n",
              "    }\n",
              "\n",
              "    [theme=dark] .colab-df-convert:hover {\n",
              "      background-color: #434B5C;\n",
              "      box-shadow: 0px 1px 3px 1px rgba(0, 0, 0, 0.15);\n",
              "      filter: drop-shadow(0px 1px 2px rgba(0, 0, 0, 0.3));\n",
              "      fill: #FFFFFF;\n",
              "    }\n",
              "  </style>\n",
              "\n",
              "    <script>\n",
              "      const buttonEl =\n",
              "        document.querySelector('#df-c33b3d23-c28c-400f-9579-549d55da5942 button.colab-df-convert');\n",
              "      buttonEl.style.display =\n",
              "        google.colab.kernel.accessAllowed ? 'block' : 'none';\n",
              "\n",
              "      async function convertToInteractive(key) {\n",
              "        const element = document.querySelector('#df-c33b3d23-c28c-400f-9579-549d55da5942');\n",
              "        const dataTable =\n",
              "          await google.colab.kernel.invokeFunction('convertToInteractive',\n",
              "                                                    [key], {});\n",
              "        if (!dataTable) return;\n",
              "\n",
              "        const docLinkHtml = 'Like what you see? Visit the ' +\n",
              "          '<a target=\"_blank\" href=https://colab.research.google.com/notebooks/data_table.ipynb>data table notebook</a>'\n",
              "          + ' to learn more about interactive tables.';\n",
              "        element.innerHTML = '';\n",
              "        dataTable['output_type'] = 'display_data';\n",
              "        await google.colab.output.renderOutput(dataTable, element);\n",
              "        const docLink = document.createElement('div');\n",
              "        docLink.innerHTML = docLinkHtml;\n",
              "        element.appendChild(docLink);\n",
              "      }\n",
              "    </script>\n",
              "  </div>\n",
              "\n",
              "    </div>\n",
              "  </div>\n"
            ]
          },
          "metadata": {},
          "execution_count": 5
        }
      ],
      "source": [
        "df[df['genres']=='Documentary|Family']"
      ]
    },
    {
      "cell_type": "markdown",
      "metadata": {
        "id": "0pIlDTvlUhhw"
      },
      "source": [
        "You should now go on from here and do further exploratory analyses and some appropriate statistical analyses on appropriate hypotheses..."
      ]
    },
    {
      "cell_type": "markdown",
      "source": [],
      "metadata": {
        "id": "kBOwpWg9rSg5"
      }
    },
    {
      "cell_type": "markdown",
      "source": [
        "Trying to know the size of data we got."
      ],
      "metadata": {
        "id": "fknJ6W_q7_nV"
      }
    },
    {
      "cell_type": "code",
      "source": [
        "df.shape"
      ],
      "metadata": {
        "colab": {
          "base_uri": "https://localhost:8080/"
        },
        "id": "z6fXnV39v42h",
        "outputId": "657e77cc-6a85-41c9-ff73-8bf7a3eee67e"
      },
      "execution_count": 6,
      "outputs": [
        {
          "output_type": "execute_result",
          "data": {
            "text/plain": [
              "(5043, 28)"
            ]
          },
          "metadata": {},
          "execution_count": 6
        }
      ]
    },
    {
      "cell_type": "markdown",
      "source": [
        "Will have look at what are all the columns it contains"
      ],
      "metadata": {
        "id": "j5xn_Waw9Zez"
      }
    },
    {
      "cell_type": "code",
      "source": [
        "df.info()"
      ],
      "metadata": {
        "colab": {
          "base_uri": "https://localhost:8080/"
        },
        "id": "9mBjU-Ma9r6p",
        "outputId": "41941b47-793c-4e06-d2eb-04ac4d5bd179"
      },
      "execution_count": 7,
      "outputs": [
        {
          "output_type": "stream",
          "name": "stdout",
          "text": [
            "<class 'pandas.core.frame.DataFrame'>\n",
            "RangeIndex: 5043 entries, 0 to 5042\n",
            "Data columns (total 28 columns):\n",
            " #   Column                     Non-Null Count  Dtype  \n",
            "---  ------                     --------------  -----  \n",
            " 0   color                      5024 non-null   object \n",
            " 1   director_name              4939 non-null   object \n",
            " 2   num_critic_for_reviews     4993 non-null   float64\n",
            " 3   duration                   5028 non-null   float64\n",
            " 4   director_facebook_likes    4939 non-null   float64\n",
            " 5   actor_3_facebook_likes     5020 non-null   float64\n",
            " 6   actor_2_name               5030 non-null   object \n",
            " 7   actor_1_facebook_likes     5036 non-null   float64\n",
            " 8   gross                      4159 non-null   float64\n",
            " 9   genres                     5043 non-null   object \n",
            " 10  actor_1_name               5036 non-null   object \n",
            " 11  movie_title                5043 non-null   object \n",
            " 12  num_voted_users            5043 non-null   int64  \n",
            " 13  cast_total_facebook_likes  5043 non-null   int64  \n",
            " 14  actor_3_name               5020 non-null   object \n",
            " 15  facenumber_in_poster       5030 non-null   float64\n",
            " 16  plot_keywords              4890 non-null   object \n",
            " 17  movie_imdb_link            5043 non-null   object \n",
            " 18  num_user_for_reviews       5022 non-null   float64\n",
            " 19  language                   5031 non-null   object \n",
            " 20  country                    5038 non-null   object \n",
            " 21  content_rating             4740 non-null   object \n",
            " 22  budget                     4551 non-null   float64\n",
            " 23  title_year                 4935 non-null   float64\n",
            " 24  actor_2_facebook_likes     5030 non-null   float64\n",
            " 25  imdb_score                 5043 non-null   float64\n",
            " 26  aspect_ratio               4714 non-null   float64\n",
            " 27  movie_facebook_likes       5043 non-null   int64  \n",
            "dtypes: float64(13), int64(3), object(12)\n",
            "memory usage: 1.1+ MB\n"
          ]
        }
      ]
    },
    {
      "cell_type": "markdown",
      "source": [
        "Now will try to drop the unnecessary data like duplicates and null values."
      ],
      "metadata": {
        "id": "43KWObOG7-M-"
      }
    },
    {
      "cell_type": "code",
      "source": [
        "df=df.dropna()\n",
        "df = df.drop_duplicates(subset='movie_imdb_link', keep='first')\n",
        "df.drop_duplicates(inplace=True)\n",
        "df = df.drop([ 'movie_title', 'facenumber_in_poster', 'plot_keywords', 'country', 'movie_imdb_link'], axis=1)\n"
      ],
      "metadata": {
        "id": "dgzQ7tzb5MU0"
      },
      "execution_count": 8,
      "outputs": []
    },
    {
      "cell_type": "markdown",
      "source": [
        "After removing the duplicates and null values from the data, I will consider important aspects that will affect the movie's success: gross, genres, director, budget, and IMDb ratings."
      ],
      "metadata": {
        "id": "22Wft9uZ-D5s"
      }
    },
    {
      "cell_type": "code",
      "source": [
        "plt.figure(figsize=(12, 6))\n",
        "\n",
        "plt.subplot(1, 2, 1)\n",
        "plt.boxplot(df['gross'])\n",
        "plt.xlabel('Gross Earnings')\n",
        "plt.ylabel('Values')\n",
        "plt.title('Gross Earnings Distribution - boxplot')\n",
        "\n",
        "plt.subplot(1, 2, 2)\n",
        "plt.boxplot(df['budget'])\n",
        "plt.xlabel('budget on the movies')\n",
        "plt.ylabel('Values')\n",
        "plt.title('Budget Distribution -  Box Plot ')"
      ],
      "metadata": {
        "colab": {
          "base_uri": "https://localhost:8080/",
          "height": 581
        },
        "id": "y3YMqPpH-GZy",
        "outputId": "67b48cb3-e7e6-4bda-da1c-5e49b8d1315c"
      },
      "execution_count": 9,
      "outputs": [
        {
          "output_type": "execute_result",
          "data": {
            "text/plain": [
              "Text(0.5, 1.0, 'Budget Distribution -  Box Plot ')"
            ]
          },
          "metadata": {},
          "execution_count": 9
        },
        {
          "output_type": "display_data",
          "data": {
            "text/plain": [
              "<Figure size 1200x600 with 2 Axes>"
            ],
            "image/png": "[encoded data removed]"
          },
          "metadata": {}
        }
      ]
    },
    {
      "cell_type": "markdown",
      "source": [
        "Now will see which are all directors having considerable gross"
      ],
      "metadata": {
        "id": "mMu6XWSw-GHV"
      }
    },
    {
      "cell_type": "code",
      "source": [
        "import matplotlib.pyplot as plt\n",
        "\n",
        "unique_directors = df['director_name'].unique()\n",
        "\n",
        "fig, axes = plt.subplots(nrows=2, ncols=4, sharey=True)\n",
        "\n",
        "for idx, (director, ax) in enumerate(zip(unique_directors, axes.flat)):\n",
        "    df_director = df[df['director_name'] == director]\n",
        "    df_director.boxplot(column='gross', ax=ax)\n",
        "    ax.set_title(director)\n",
        "\n",
        "fig.delaxes(axes[1][3])\n",
        "\n",
        "fig.set_figwidth(fig.get_figwidth() * 4.5)\n",
        "fig.set_figheight(fig.get_figheight() * 2.5)\n",
        "\n",
        "plt.show()"
      ],
      "metadata": {
        "colab": {
          "base_uri": "https://localhost:8080/",
          "height": 560
        },
        "id": "PECgSj6b-F1u",
        "outputId": "ea3b7fef-6125-456a-996d-6cded994e08b"
      },
      "execution_count": 10,
      "outputs": [
        {
          "output_type": "display_data",
          "data": {
            "text/plain": [
              "<Figure size 2880x1200 with 7 Axes>"
            ],
            "image/png": "[encoded data removed]"
          },
          "metadata": {}
        }
      ]
    },
    {
      "cell_type": "markdown",
      "source": [
        "From the above we can see the list of directors shows that film by James Cameron and Sam Raimi and then Christopher Nolan having the maximum range of 'gross' value"
      ],
      "metadata": {
        "id": "oTJ5bhVD-FfN"
      }
    },
    {
      "cell_type": "markdown",
      "source": [
        "Now wil see the which genres having huge craze and making good gross"
      ],
      "metadata": {
        "id": "zDjwuVHN2qJ7"
      }
    },
    {
      "cell_type": "code",
      "source": [
        "unique_genres = df['genres'].str.split('|', expand=True).stack().unique()\n",
        "\n",
        "fig, axes = plt.subplots(nrows=2, ncols=4, sharey=True)\n",
        "\n",
        "for idx, (genre, ax) in enumerate(zip(unique_genres, axes.flat)):\n",
        "    df2_genre = df[df['genres'].str.contains(genre)]\n",
        "    df2_genre.boxplot(column='gross', ax=ax)\n",
        "    ax.set_title(genre)\n",
        "\n",
        "fig.delaxes(axes[1][3])\n",
        "\n",
        "fig.set_figwidth(fig.get_figwidth() * 4.5)\n",
        "fig.set_figheight(fig.get_figheight() * 2.5)\n",
        "\n",
        "plt.show()"
      ],
      "metadata": {
        "colab": {
          "base_uri": "https://localhost:8080/",
          "height": 560
        },
        "id": "dEZPYMcr2plQ",
        "outputId": "b15faf20-412f-4fad-d95f-fdad12697608"
      },
      "execution_count": 11,
      "outputs": [
        {
          "output_type": "display_data",
          "data": {
            "text/plain": [
              "<Figure size 2880x1200 with 7 Axes>"
            ],
            "image/png": "[encoded data removed]"
          },
          "metadata": {}
        }
      ]
    },
    {
      "cell_type": "markdown",
      "source": [
        "From the plots we can clearly say that Adventure,fantasy, Sci-fi and Action movies are making good gross."
      ],
      "metadata": {
        "id": "VMY-oBYI3jvp"
      }
    },
    {
      "cell_type": "markdown",
      "source": [
        "In the future, we can consider these genres and directors for achieving greater success."
      ],
      "metadata": {
        "id": "Ygm13M5A4AWo"
      }
    },
    {
      "cell_type": "markdown",
      "source": [
        "In order to guess the Hypothesis will check some relation between different columns"
      ],
      "metadata": {
        "id": "fu2tlhbx8sFW"
      }
    },
    {
      "cell_type": "markdown",
      "source": [
        "First will compare between the gross and budget"
      ],
      "metadata": {
        "id": "XnsR1vws9HXh"
      }
    },
    {
      "cell_type": "code",
      "source": [
        "plt.scatter(df['gross'], df['budget'])\n",
        "\n",
        "plt.xlabel('Gross Earnings')\n",
        "plt.ylabel('budget')\n",
        "plt.title('Relationship between Gross Earnings and Budget')\n",
        "\n",
        "plt.show()"
      ],
      "metadata": {
        "colab": {
          "base_uri": "https://localhost:8080/",
          "height": 472
        },
        "id": "cnauozT5-svu",
        "outputId": "52db28c7-b5d9-49df-8f1d-f4e2a2bb57f1"
      },
      "execution_count": 12,
      "outputs": [
        {
          "output_type": "display_data",
          "data": {
            "text/plain": [
              "<Figure size 640x480 with 1 Axes>"
            ],
            "image/png": "[encoded data removed]"
          },
          "metadata": {}
        }
      ]
    },
    {
      "cell_type": "markdown",
      "source": [
        "Now will compare between the gross and Imdb rating"
      ],
      "metadata": {
        "id": "PwfNMTp0_eRn"
      }
    },
    {
      "cell_type": "code",
      "source": [
        "plt.scatter(df['gross'], df['imdb_score'])\n",
        "\n",
        "plt.xlabel('Gross Earnings')\n",
        "plt.ylabel('IMDb Rating')\n",
        "plt.title('Relationship between Gross Earnings and IMDb Rating')\n",
        "\n",
        "plt.show()"
      ],
      "metadata": {
        "colab": {
          "base_uri": "https://localhost:8080/",
          "height": 472
        },
        "id": "gqwn8KdWMkBq",
        "outputId": "fda26e61-41e9-497c-911e-3ebad00481ce"
      },
      "execution_count": 13,
      "outputs": [
        {
          "output_type": "display_data",
          "data": {
            "text/plain": [
              "<Figure size 640x480 with 1 Axes>"
            ],
            "image/png": "[encoded data removed]"
          },
          "metadata": {}
        }
      ]
    },
    {
      "cell_type": "markdown",
      "source": [
        "Now, will start with Hypothesis"
      ],
      "metadata": {
        "id": "iyXAeovxFA28"
      }
    },
    {
      "cell_type": "markdown",
      "source": [
        "Hypothesis 1: Higher budget leads to higher gross earnings"
      ],
      "metadata": {
        "id": "MI_ABLDLFLPD"
      }
    },
    {
      "cell_type": "code",
      "source": [
        "import scipy.stats as stats\n",
        "\n",
        "high_budget = df[df['budget'] > 0]['gross']\n",
        "low_budget = df[df['budget'] <= 0]['gross']\n",
        "\n",
        "\n",
        "z_statistic1, p_value1 = stats.ttest_ind(high_budget, low_budget)\n",
        "\n",
        "print(\"Hypothesis 1: Higher budget leads to higher gross earnings\")\n",
        "print(\"Z-statistic:\", z_statistic1)\n",
        "print(\"P-value:\", p_value1)"
      ],
      "metadata": {
        "colab": {
          "base_uri": "https://localhost:8080/"
        },
        "id": "8mHmMpji-Clb",
        "outputId": "02e0da13-feac-4ea9-b0df-0aee0c42d428"
      },
      "execution_count": 14,
      "outputs": [
        {
          "output_type": "stream",
          "name": "stdout",
          "text": [
            "Hypothesis 1: Higher budget leads to higher gross earnings\n",
            "Z-statistic: nan\n",
            "P-value: nan\n"
          ]
        }
      ]
    },
    {
      "cell_type": "markdown",
      "source": [
        " Based on above result,we can reject the null hypothesis and can say that there is a statistically significant difference in the means of the two groups. This means that movies with high budgets tend to have higher gross earnings than movies with low budgets."
      ],
      "metadata": {
        "id": "R-FnFVfDGcpd"
      }
    },
    {
      "cell_type": "markdown",
      "source": [
        "Hypothesis 2: Higher imdb_rating leads to higher gross earnings\n"
      ],
      "metadata": {
        "id": "oGVvlTfRFnuR"
      }
    },
    {
      "cell_type": "code",
      "source": [
        "high_imdb_ratings = df[df['imdb_score'] > 0]['gross']\n",
        "low_imdb_ratings = df[df['imdb_score'] <= 0]['gross']\n",
        "\n",
        "z_statistic2, p_value2 = stats.ttest_ind(high_imdb_ratings, low_imdb_ratings)\n",
        "\n",
        "print(\"Hypothesis 2: Higher imdb_rating leads to higher gross earnings\")\n",
        "print(\"Z-statistic:\", z_statistic2)\n",
        "print(\"P-value:\", p_value2)"
      ],
      "metadata": {
        "colab": {
          "base_uri": "https://localhost:8080/"
        },
        "id": "edsMM4yUFojY",
        "outputId": "f9962f80-f371-42c3-86e8-42610666ccea"
      },
      "execution_count": 15,
      "outputs": [
        {
          "output_type": "stream",
          "name": "stdout",
          "text": [
            "Hypothesis 2: Higher imdb_rating leads to higher gross earnings\n",
            "Z-statistic: nan\n",
            "P-value: nan\n"
          ]
        }
      ]
    },
    {
      "cell_type": "markdown",
      "source": [
        "Based on above result,we can reject the null hypothesis and can say that there is a statistically significant difference in the means of the two groups.  This means that movies with high IMDb ratings tend to have higher gross earnings than movies with low IMDb ratings."
      ],
      "metadata": {
        "id": "r0YjmqywHBNs"
      }
    },
    {
      "cell_type": "markdown",
      "source": [
        "To constrain our experiment need to know min and max values of budget and gross"
      ],
      "metadata": {
        "id": "7vxvrrTZIDtE"
      }
    },
    {
      "cell_type": "code",
      "source": [
        "summary_data = df[['gross', 'budget']].describe()\n",
        "print(summary_data)"
      ],
      "metadata": {
        "colab": {
          "base_uri": "https://localhost:8080/"
        },
        "id": "Js-9of4GJMcK",
        "outputId": "705142c9-38f5-4946-ba3d-deda5cc909a9"
      },
      "execution_count": 18,
      "outputs": [
        {
          "output_type": "stream",
          "name": "stdout",
          "text": [
            "              gross        budget\n",
            "count  3.656000e+03  3.656000e+03\n",
            "mean   5.176226e+07  4.575375e+07\n",
            "std    6.922863e+07  2.288247e+08\n",
            "min    1.620000e+02  2.180000e+02\n",
            "25%    7.940690e+06  1.000000e+07\n",
            "50%    2.916831e+07  2.500000e+07\n",
            "75%    6.646686e+07  5.000000e+07\n",
            "max    7.605058e+08  1.221550e+10\n"
          ]
        }
      ]
    },
    {
      "cell_type": "markdown",
      "source": [
        "Now, we can suggest director and genres based on the given budget with minimum returns of 2 times of budget"
      ],
      "metadata": {
        "id": "RkhZDjGfN38x"
      }
    },
    {
      "cell_type": "code",
      "source": [
        "fixing_budget = 5000000\n",
        "\n",
        "# Filter data based on budget and gross criteria\n",
        "selected_films = df[(df['budget'] <= fixing_budget) & (df['gross'] > fixing_budget*2 )]\n",
        "\n",
        "# Display details of selected director, genres\n",
        "sorted_films = selected_films.sort_values(by='gross', ascending=False)\n",
        "top_10_grossing_films = sorted_films[:10]\n",
        "print(top_10_grossing_films[['director_name', 'genres', 'gross','imdb_score']].sort_values(by='imdb_score', ascending=False))"
      ],
      "metadata": {
        "colab": {
          "base_uri": "https://localhost:8080/"
        },
        "id": "1yY1GZlvIqoA",
        "outputId": "9f48d19a-8e8a-4599-9c72-2162c1ee3db7"
      },
      "execution_count": 20,
      "outputs": [
        {
          "output_type": "stream",
          "name": "stdout",
          "text": [
            "         director_name                            genres        gross  \\\n",
            "3867      Milos Forman                             Drama  112000000.0   \n",
            "3970    Victor Fleming         Drama|History|Romance|War  198655278.0   \n",
            "4530  John G. Avildsen                       Drama|Sport  117235247.0   \n",
            "4168        Mel Brooks                    Comedy|Western  119500000.0   \n",
            "4449  William Cottrell  Animation|Family|Fantasy|Musical  184925485.0   \n",
            "4046       John Landis                            Comedy  141600000.0   \n",
            "4674      George Lucas                Comedy|Drama|Music  115000000.0   \n",
            "3737        Joel Zwick             Comedy|Family|Romance  241437427.0   \n",
            "4707     Daniel Myrick                            Horror  140530114.0   \n",
            "4793         Oren Peli                            Horror  107917283.0   \n",
            "\n",
            "      imdb_score  \n",
            "3867         8.7  \n",
            "3970         8.2  \n",
            "4530         8.1  \n",
            "4168         7.8  \n",
            "4449         7.7  \n",
            "4046         7.6  \n",
            "4674         7.5  \n",
            "3737         6.6  \n",
            "4707         6.4  \n",
            "4793         6.3  \n"
          ]
        }
      ]
    },
    {
      "cell_type": "markdown",
      "source": [
        "Finally again sorted by based on top imdb_score, to enhance the successful choice"
      ],
      "metadata": {
        "id": "wLYKoysNE_rm"
      }
    },
    {
      "cell_type": "markdown",
      "source": [
        "Proving the relation between 'gross', 'budget' and 'imdb_score'"
      ],
      "metadata": {
        "id": "VIt_UtapCmKe"
      }
    },
    {
      "cell_type": "code",
      "source": [
        "# Calculate correlation coefficients between key variables\n",
        "correlation_matrix = df[['gross', 'budget', 'imdb_score']].corr()\n",
        "print(correlation_matrix)"
      ],
      "metadata": {
        "colab": {
          "base_uri": "https://localhost:8080/"
        },
        "id": "AWnT_kmwCm15",
        "outputId": "f1532f6b-b288-465a-e79f-08bc4fd9bc31"
      },
      "execution_count": 17,
      "outputs": [
        {
          "output_type": "stream",
          "name": "stdout",
          "text": [
            "               gross    budget  imdb_score\n",
            "gross       1.000000  0.093887    0.216461\n",
            "budget      0.093887  1.000000    0.029622\n",
            "imdb_score  0.216461  0.029622    1.000000\n"
          ]
        }
      ]
    },
    {
      "cell_type": "markdown",
      "source": [
        "Actionable recommendations based on the analyses\n",
        "\n",
        "1.Prioritize compelling narratives and engaging cinematography for films, leveraging the strong correlation between IMDb rating and gross earnings.\n",
        "\n",
        "2.Tailor film genres to match audience preferences using feedback and market research insights.\n",
        "\n",
        "3.Invest in effective marketing, including social media and influencer collaborations, for increased awareness and buzz."
      ],
      "metadata": {
        "id": "ftwZqr3NJeBD"
      }
    },
    {
      "cell_type": "markdown",
      "metadata": {
        "id": "ivMcjhHCUhhw"
      },
      "source": [
        "# Summary"
      ]
    },
    {
      "cell_type": "markdown",
      "source": [
        "\n",
        "Based on the analysis of genres with high IMDb scores in the proposed budget of 5000000, the studio recommends exploring genres such as \"Drama|History|Romance|War\"\n",
        "\n",
        "the correlation matrix shows us that IMDb ratings are a more important predictor of gross profit than budget. Although high-budget films have a slight advantage, IMDb ratings seem to play a more important role in determining the financial success of a film.\n",
        "\n",
        "Consideration of the director's choice, genre preferences, and market-specific strategies should be integral to the decision-making process."
      ],
      "metadata": {
        "id": "PGBGcKRXNriH"
      }
    }
  ],
  "metadata": {
    "kernelspec": {
      "display_name": "Python 3 (ipykernel)",
      "language": "python",
      "name": "python3"
    },
    "language_info": {
      "codemirror_mode": {
        "name": "ipython",
        "version": 3
      },
      "file_extension": ".py",
      "mimetype": "text/x-python",
      "name": "python",
      "nbconvert_exporter": "python",
      "pygments_lexer": "ipython3",
      "version": "3.9.12"
    },
    "colab": {
      "provenance": []
    }
  },
  "nbformat": 4,
  "nbformat_minor": 0
}